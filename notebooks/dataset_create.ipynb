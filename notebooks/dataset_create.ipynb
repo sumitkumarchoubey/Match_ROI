{
 "cells": [
  {
   "cell_type": "markdown",
   "metadata": {},
   "source": [
    "## Install required Dependincies"
   ]
  },
  {
   "cell_type": "code",
   "execution_count": 1,
   "metadata": {},
   "outputs": [
    {
     "name": "stdout",
     "output_type": "stream",
     "text": [
      "Requirement already satisfied: num2words in /home/sumitkrchoubey/anaconda3/envs/audio_text/lib/python3.8/site-packages (0.5.12)\n",
      "Requirement already satisfied: docopt>=0.6.2 in /home/sumitkrchoubey/anaconda3/envs/audio_text/lib/python3.8/site-packages (from num2words) (0.6.2)\n",
      "Requirement already satisfied: datasets in /home/sumitkrchoubey/anaconda3/envs/audio_text/lib/python3.8/site-packages (2.4.0)\n",
      "Requirement already satisfied: responses<0.19 in /home/sumitkrchoubey/anaconda3/envs/audio_text/lib/python3.8/site-packages (from datasets) (0.18.0)\n",
      "Requirement already satisfied: packaging in /home/sumitkrchoubey/anaconda3/envs/audio_text/lib/python3.8/site-packages (from datasets) (21.3)\n",
      "Requirement already satisfied: aiohttp in /home/sumitkrchoubey/anaconda3/envs/audio_text/lib/python3.8/site-packages (from datasets) (3.8.1)\n",
      "Requirement already satisfied: pandas in /home/sumitkrchoubey/.local/lib/python3.8/site-packages (from datasets) (1.2.1)\n",
      "Requirement already satisfied: numpy>=1.17 in /home/sumitkrchoubey/anaconda3/envs/audio_text/lib/python3.8/site-packages (from datasets) (1.22.4)\n",
      "Requirement already satisfied: dill<0.3.6 in /home/sumitkrchoubey/anaconda3/envs/audio_text/lib/python3.8/site-packages (from datasets) (0.3.5.1)\n",
      "Requirement already satisfied: multiprocess in /home/sumitkrchoubey/anaconda3/envs/audio_text/lib/python3.8/site-packages (from datasets) (0.70.13)\n",
      "Requirement already satisfied: huggingface-hub<1.0.0,>=0.1.0 in /home/sumitkrchoubey/anaconda3/envs/audio_text/lib/python3.8/site-packages (from datasets) (0.9.1)\n",
      "Requirement already satisfied: tqdm>=4.62.1 in /home/sumitkrchoubey/anaconda3/envs/audio_text/lib/python3.8/site-packages (from datasets) (4.64.0)\n",
      "Requirement already satisfied: pyarrow>=6.0.0 in /home/sumitkrchoubey/anaconda3/envs/audio_text/lib/python3.8/site-packages (from datasets) (9.0.0)\n",
      "Requirement already satisfied: requests>=2.19.0 in /home/sumitkrchoubey/anaconda3/envs/audio_text/lib/python3.8/site-packages (from datasets) (2.28.1)\n",
      "Requirement already satisfied: fsspec[http]>=2021.11.1 in /home/sumitkrchoubey/anaconda3/envs/audio_text/lib/python3.8/site-packages (from datasets) (2022.8.2)\n",
      "Requirement already satisfied: xxhash in /home/sumitkrchoubey/anaconda3/envs/audio_text/lib/python3.8/site-packages (from datasets) (3.0.0)\n",
      "Requirement already satisfied: aiosignal>=1.1.2 in /home/sumitkrchoubey/anaconda3/envs/audio_text/lib/python3.8/site-packages (from aiohttp->datasets) (1.2.0)\n",
      "Requirement already satisfied: attrs>=17.3.0 in /home/sumitkrchoubey/anaconda3/envs/audio_text/lib/python3.8/site-packages (from aiohttp->datasets) (22.1.0)\n",
      "Requirement already satisfied: yarl<2.0,>=1.0 in /home/sumitkrchoubey/anaconda3/envs/audio_text/lib/python3.8/site-packages (from aiohttp->datasets) (1.8.1)\n",
      "Requirement already satisfied: charset-normalizer<3.0,>=2.0 in /home/sumitkrchoubey/anaconda3/envs/audio_text/lib/python3.8/site-packages (from aiohttp->datasets) (2.1.1)\n",
      "Requirement already satisfied: frozenlist>=1.1.1 in /home/sumitkrchoubey/anaconda3/envs/audio_text/lib/python3.8/site-packages (from aiohttp->datasets) (1.3.1)\n",
      "Requirement already satisfied: async-timeout<5.0,>=4.0.0a3 in /home/sumitkrchoubey/anaconda3/envs/audio_text/lib/python3.8/site-packages (from aiohttp->datasets) (4.0.2)\n",
      "Requirement already satisfied: multidict<7.0,>=4.5 in /home/sumitkrchoubey/anaconda3/envs/audio_text/lib/python3.8/site-packages (from aiohttp->datasets) (6.0.2)\n",
      "Requirement already satisfied: filelock in /home/sumitkrchoubey/anaconda3/envs/audio_text/lib/python3.8/site-packages (from huggingface-hub<1.0.0,>=0.1.0->datasets) (3.8.0)\n",
      "Requirement already satisfied: typing-extensions>=3.7.4.3 in /home/sumitkrchoubey/anaconda3/envs/audio_text/lib/python3.8/site-packages (from huggingface-hub<1.0.0,>=0.1.0->datasets) (4.3.0)\n",
      "Requirement already satisfied: pyyaml>=5.1 in /home/sumitkrchoubey/anaconda3/envs/audio_text/lib/python3.8/site-packages (from huggingface-hub<1.0.0,>=0.1.0->datasets) (6.0)\n",
      "Requirement already satisfied: pyparsing!=3.0.5,>=2.0.2 in /home/sumitkrchoubey/anaconda3/envs/audio_text/lib/python3.8/site-packages (from packaging->datasets) (3.0.9)\n",
      "Requirement already satisfied: urllib3<1.27,>=1.21.1 in /home/sumitkrchoubey/anaconda3/envs/audio_text/lib/python3.8/site-packages (from requests>=2.19.0->datasets) (1.26.12)\n",
      "Requirement already satisfied: idna<4,>=2.5 in /home/sumitkrchoubey/anaconda3/envs/audio_text/lib/python3.8/site-packages (from requests>=2.19.0->datasets) (3.3)\n",
      "Requirement already satisfied: certifi>=2017.4.17 in /home/sumitkrchoubey/anaconda3/envs/audio_text/lib/python3.8/site-packages (from requests>=2.19.0->datasets) (2022.6.15)\n",
      "Requirement already satisfied: python-dateutil>=2.7.3 in /home/sumitkrchoubey/anaconda3/envs/audio_text/lib/python3.8/site-packages (from pandas->datasets) (2.8.2)\n",
      "Requirement already satisfied: pytz>=2017.3 in /home/sumitkrchoubey/anaconda3/envs/audio_text/lib/python3.8/site-packages (from pandas->datasets) (2022.2.1)\n",
      "Requirement already satisfied: six>=1.5 in /home/sumitkrchoubey/anaconda3/envs/audio_text/lib/python3.8/site-packages (from python-dateutil>=2.7.3->pandas->datasets) (1.16.0)\n"
     ]
    }
   ],
   "source": [
    "! pip install num2words\n",
    "! pip install datasets"
   ]
  },
  {
   "cell_type": "markdown",
   "metadata": {},
   "source": [
    "## import library\n"
   ]
  },
  {
   "cell_type": "code",
   "execution_count": 2,
   "metadata": {},
   "outputs": [
    {
     "name": "stderr",
     "output_type": "stream",
     "text": [
      "/home/sumitkrchoubey/anaconda3/envs/audio_text/lib/python3.8/site-packages/tqdm/auto.py:22: TqdmWarning: IProgress not found. Please update jupyter and ipywidgets. See https://ipywidgets.readthedocs.io/en/stable/user_install.html\n",
      "  from .autonotebook import tqdm as notebook_tqdm\n"
     ]
    }
   ],
   "source": [
    "import json,datasets,num2words\n",
    "import os,librosa,re\n",
    "import pandas as pd\n",
    "from datasets import Dataset, DatasetDict,load_from_disk\n"
   ]
  },
  {
   "cell_type": "markdown",
   "metadata": {},
   "source": [
    "## read the dataset file which create using listin audio files\n"
   ]
  },
  {
   "cell_type": "code",
   "execution_count": 3,
   "metadata": {},
   "outputs": [],
   "source": [
    "open_dataset = open('data_set_create2.json')\n",
    "data = json.load(open_dataset)"
   ]
  },
  {
   "cell_type": "markdown",
   "metadata": {},
   "source": [
    "## create code for data_set creation"
   ]
  },
  {
   "cell_type": "code",
   "execution_count": null,
   "metadata": {},
   "outputs": [],
   "source": []
  },
  {
   "cell_type": "code",
   "execution_count": 7,
   "metadata": {},
   "outputs": [],
   "source": [
    "def create_dataset_format_with_convert_number_to_words(text_data):\n",
    "    data_set_create={}\n",
    "    check_hash_in_audio_link=\"/\"\n",
    "    check_dot_in_audio_link=\".\"\n",
    "    audio_file_path=\"chunk\"+\"/\"\n",
    "    save_audio_file_path_model_training=\"/content/drive/MyDrive/chunk\"+\"/\"\n",
    "    if check_hash_in_audio_link in text_data['audio_link']:\n",
    "        audio_link=text_data['audio_link'].split(check_hash_in_audio_link)[-1]\n",
    "        audio_text=text_data['audio_text']\n",
    "        clean_text_data=re.sub(r\"(\\d+)\", lambda x: num2words.num2words(int(x.group(0))), audio_text)\n",
    "        #clean_text_data\n",
    "        #print(clean_text_data,audio_link)\n",
    "        first_file_array,first_file_sample_rate=librosa.load(audio_file_path+audio_link,sr=16_000)\n",
    "        data_set_create['audio']={\"array\":(first_file_array),\"path\":save_audio_file_path_model_training+audio_link,\"sampling_rate\":first_file_sample_rate}\n",
    "        data_set_create['file']=save_audio_file_path_model_training+audio_link\n",
    "        data_set_create['text']=clean_text_data\n",
    "    elif check_dot_in_audio_link in text_data['audio_link']:\n",
    "        audio_link=text_data['audio_link']\n",
    "        audio_text=text_data['audio_text']\n",
    "        clean_text_data=re.sub(r\"(\\d+)\", lambda x: num2words.num2words(int(x.group(0))), audio_text)\n",
    "        \n",
    "        #print(clean_text_data,audio_link)\n",
    "        first_file_array,first_file_sample_rate=librosa.load(audio_file_path+audio_link,sr=16_000)\n",
    "        data_set_create['audio']={\"array\":(first_file_array),\"path\":save_audio_file_path_model_training+audio_link,\"sampling_rate\":first_file_sample_rate}\n",
    "        data_set_create['file']=save_audio_file_path_model_training+audio_link\n",
    "        data_set_create['text']=clean_text_data\n",
    "        #data_set.append(data_set_create)\n",
    "    else:\n",
    "        audio_link=text_data['audio_link']+\".wav\"\n",
    "        audio_text=text_data['audio_text']\n",
    "        clean_text_data=re.sub(r\"(\\d+)\", lambda x: num2words.num2words(int(x.group(0))), audio_text)\n",
    "        #print(clean_text_data,audio_link)\n",
    "        \n",
    "        first_file_array,first_file_sample_rate=librosa.load(audio_file_path+audio_link,sr=16_000)\n",
    "        data_set_create['audio']={\"array\":(first_file_array),\"path\":save_audio_file_path_model_training+audio_link,\"sampling_rate\":first_file_sample_rate}\n",
    "        data_set_create['file']=save_audio_file_path_model_training+audio_link\n",
    "        data_set_create['text']=clean_text_data\n",
    "    return data_set_create"
   ]
  },
  {
   "cell_type": "markdown",
   "metadata": {},
   "source": [
    "## Create function to run dataset create function  and save the output into the huggface dataset format"
   ]
  },
  {
   "cell_type": "markdown",
   "metadata": {},
   "source": [
    "# ## Three dataset_types"
   ]
  },
  {
   "cell_type": "markdown",
   "metadata": {},
   "source": [
    "## base data_set=data_set_value\n",
    "## large data_set=increase_data_set\n",
    "## small_data_set=sample_size"
   ]
  },
  {
   "cell_type": "code",
   "execution_count": 8,
   "metadata": {},
   "outputs": [],
   "source": [
    "def processing_dataset(data):\n",
    "    ## len of list of dictionary\n",
    "    len_list_dicionary=len(data)\n",
    "    i = 0\n",
    "    data_set=[]\n",
    "    while i < len_list_dicionary:\n",
    "        d=(create_dataset_format_with_convert_number_to_words(data[i]))\n",
    "        data_set.append(d)\n",
    "        i += 1\n",
    "    ## increase the dataset\n",
    "    copy_times=5\n",
    "    increase_data_set=data_set*copy_times\n",
    "    ## select 200 sample_size_of from base data\n",
    "    sample_size=data_set[:200]\n",
    "    ## save basemodel\n",
    "    create_dataset_huggface_base_model=datasets.Dataset.from_pandas(pd.DataFrame(data=data_set))\n",
    "    create_dataset_huggface_base_model.save_to_disk('call_recording_data_set_base')\n",
    "    ## save largemodel\n",
    "    create_dataset_huggface_large_model=datasets.Dataset.from_pandas(pd.DataFrame(data=increase_data_set))\n",
    "    create_dataset_huggface_large_model.save_to_disk('call_recording_data_set_large')\n",
    "    ## save smallmodel\n",
    "    create_dataset_huggface_small_model=datasets.Dataset.from_pandas(pd.DataFrame(data=sample_size))\n",
    "    create_dataset_huggface_small_model.save_to_disk('call_recording_data_set_small')\n",
    "    return \"done\""
   ]
  },
  {
   "cell_type": "code",
   "execution_count": 9,
   "metadata": {},
   "outputs": [],
   "source": [
    "data_set_value=processing_dataset(data)"
   ]
  }
 ],
 "metadata": {
  "kernelspec": {
   "display_name": "audio_text",
   "language": "python",
   "name": "audio_text"
  },
  "language_info": {
   "codemirror_mode": {
    "name": "ipython",
    "version": 3
   },
   "file_extension": ".py",
   "mimetype": "text/x-python",
   "name": "python",
   "nbconvert_exporter": "python",
   "pygments_lexer": "ipython3",
   "version": "3.8.13"
  }
 },
 "nbformat": 4,
 "nbformat_minor": 4
}
